{
 "cells": [
  {
   "cell_type": "markdown",
   "metadata": {},
   "source": [
    "# TIC_TAC_TOE "
   ]
  },
  {
   "cell_type": "code",
   "execution_count": null,
   "metadata": {},
   "outputs": [],
   "source": [
    "'''Creating a tic_tac_toe game which can be played only in the command line'''"
   ]
  },
  {
   "cell_type": "code",
   "execution_count": null,
   "metadata": {},
   "outputs": [],
   "source": [
    "'''A second version which is a 2D version will be developed in VS Code'''"
   ]
  },
  {
   "cell_type": "markdown",
   "metadata": {},
   "source": [
    "It is basically an X|O game in which two players each choose either X or O and play. If a player's three conseutive symbols in Diagonal,Horizontal,Vertical are equal then the game is Over "
   ]
  },
  {
   "cell_type": "markdown",
   "metadata": {},
   "source": [
    "This game goes Over four steps of creation:\n",
    "\n",
    "1: creation of board: To play the game a board of nine boxes has to be created and displayed\n",
    "\n",
    "2: Getting user info: Everything regarding usernames,their option of X|O is taken in this \n",
    "\n",
    "3: writing a win logic: anyone has to win and there must be a logic to win which is created here\n",
    "\n",
    "4: inputs: After every thing set we have to check whether our board is taking values into board or not\n",
    "\n",
    "AFTER CREATION OF THESE FOUR STEPS WE COMBINE THEM TOGEATHER AND CREATE THE FINAL GAME SO THAT WE DON'T FACE ANY ISSUES"
   ]
  },
  {
   "cell_type": "markdown",
   "metadata": {},
   "source": [
    "To-Do:\n",
    "\n",
    "1: Create a board with 9 boxes and display it"
   ]
  },
  {
   "cell_type": "code",
   "execution_count": null,
   "metadata": {},
   "outputs": [],
   "source": [
    "Board_list = [\"_\",\"_\",\"_\",\"_\",\"_\",\"_\",\" \",\" \",\" \",]\n",
    "def game_board():\n",
    "    print(Board_list[0] + \"|\" + Board_list[1] + \"|\" + Board_list[2])\n",
    "    print(Board_list[3] + \"|\" + Board_list[4] + \"|\" + Board_list[5])\n",
    "    print(Board_list[6] + \"|\" + Board_list[7] + \"|\" + Board_list[8])\n",
    "        "
   ]
  },
  {
   "cell_type": "code",
   "execution_count": null,
   "metadata": {},
   "outputs": [],
   "source": [
    "#game_board()"
   ]
  },
  {
   "cell_type": "markdown",
   "metadata": {},
   "source": [
    "2:Getting User's names\n"
   ]
  },
  {
   "cell_type": "code",
   "execution_count": null,
   "metadata": {},
   "outputs": [],
   "source": [
    "s_list = [\"X\",\"O\"]\n",
    "set_val = {}\n",
    "players = []\n",
    "symbols = {}\n",
    "def users():\n",
    "    player1 = input(\"Enter player 1's name: \")\n",
    "    player2 = input(\"Enter player 2's name: \")\n",
    "    first_symbol = input(f\"{player1} please choose one from {s_list}: \")\n",
    "    s_list.remove(first_symbol)\n",
    "    if first_symbol.upper() == \"X\":\n",
    "        print(f\"{player2} you will be playing with O for rest of game\")\n",
    "    else:\n",
    "        print(f\"{player2} you will be playing with X for rest of game\")\n",
    "    second_symbol = s_list[0]\n",
    "    set_val[first_symbol.upper()] = player1\n",
    "    set_val[second_symbol.upper()] = player2\n",
    "    players.append(player1)\n",
    "    players.append(player2)\n",
    "    symbols[\"first_symbol\"] = first_symbol\n",
    "    symbols[\"second_symbol\"] = second_symbol\n",
    "        "
   ]
  },
  {
   "cell_type": "code",
   "execution_count": null,
   "metadata": {},
   "outputs": [],
   "source": [
    "#users()"
   ]
  },
  {
   "cell_type": "markdown",
   "metadata": {},
   "source": [
    "3: Win_logic \n",
    "\n",
    "A player wins the game if they put three successive same symbols either Diagonally,Vertically,Horizontally "
   ]
  },
  {
   "cell_type": "code",
   "execution_count": null,
   "metadata": {},
   "outputs": [],
   "source": [
    "def check_win(inputs):\n",
    "    if ((Board_list[0] == inputs and Board_list[1] == inputs and Board_list[2] == inputs) or\n",
    "        (Board_list[3] == inputs and Board_list[4] == inputs and Board_list[5] == inputs) or\n",
    "        (Board_list[6] == inputs and Board_list[7] == inputs and Board_list[8] == inputs) or\n",
    "        (Board_list[0] == inputs and Board_list[3] == inputs and Board_list[6] == inputs) or\n",
    "        (Board_list[1] == inputs and Board_list[4] == inputs and Board_list[7] == inputs) or\n",
    "        (Board_list[2] == inputs and Board_list[5] == inputs and Board_list[8] == inputs) or\n",
    "        (Board_list[0] == inputs and Board_list[4] == inputs and Board_list[8] == inputs) or\n",
    "        (Board_list[2] == inputs and Board_list[4] == inputs and Board_list[6] == inputs)):\n",
    "        if set_val[inputs] == players[0]:\n",
    "            print(f\" Congrats {set_val[inputs]} you won the game\")\n",
    "        else:\n",
    "            print(f\" Congrats {set_val[inputs]} you won the game\")"
   ]
  },
  {
   "cell_type": "markdown",
   "metadata": {},
   "source": [
    "4: Inputs acceptance "
   ]
  },
  {
   "cell_type": "code",
   "execution_count": null,
   "metadata": {},
   "outputs": [],
   "source": [
    "def input_access():\n",
    "    i = 0\n",
    "    while i < 9:\n",
    "        if i%2 == 0:\n",
    "            inputs = int(input(f\"{players[0]} enter a position for {symbols['first_symbol']} in 0-8: \"))\n",
    "            Board_list.insert(inputs,symbols['first_symbol'])\n",
    "            Board_list.pop(inputs+1)\n",
    "            game_board()\n",
    "            check_win(symbols['first_symbol'])\n",
    "        else:\n",
    "            inputs = int(input(f\"{players[1]} enter a position for {symbols['second_symbol']} in 0-8: \"))\n",
    "            Board_list.insert(inputs,symbols['second_symbol'])\n",
    "            Board_list.pop(inputs+1)\n",
    "            game_board()\n",
    "            check_win(symbols['second_symbol'])\n",
    "        i = i+1"
   ]
  },
  {
   "cell_type": "code",
   "execution_count": null,
   "metadata": {},
   "outputs": [],
   "source": [
    "#input_access()"
   ]
  },
  {
   "cell_type": "markdown",
   "metadata": {},
   "source": [
    "# Main Game "
   ]
  },
  {
   "cell_type": "code",
   "execution_count": 7,
   "metadata": {},
   "outputs": [],
   "source": [
    "import sys\n",
    "def Tic_Tac_Toe():\n",
    "    \n",
    "    Board_list = [\"_\",\"_\",\"_\",\"_\",\"_\",\"_\",\" \",\" \",\" \",]\n",
    "    s_list = [\"X\",\"O\"]\n",
    "    set_val = {}\n",
    "    players = []\n",
    "    symbols = {}\n",
    "    win = False\n",
    "    def game_board():\n",
    "        print(Board_list[0] + \"|\" + Board_list[1] + \"|\" + Board_list[2])\n",
    "        print(Board_list[3] + \"|\" + Board_list[4] + \"|\" + Board_list[5])\n",
    "        print(Board_list[6] + \"|\" + Board_list[7] + \"|\" + Board_list[8])\n",
    "    def users():\n",
    "        player1 = input(\"Enter player 1's name: \")\n",
    "        player2 = input(\"Enter player 2's name: \")\n",
    "        first_symbol = input(f\"{player1} please choose one from {s_list}: \")\n",
    "        s_list.remove(first_symbol.upper())\n",
    "        if first_symbol.upper() == \"X\":\n",
    "            print(f\"{player2} you will be playing with O for rest of game\")\n",
    "        else:\n",
    "            print(f\"{player2} you will be playing with X for rest of game\")\n",
    "        second_symbol = s_list[0]\n",
    "        set_val[first_symbol.upper()] = player1\n",
    "        set_val[second_symbol.upper()] = player2\n",
    "        players.append(player1)\n",
    "        players.append(player2)\n",
    "        symbols[\"first_symbol\"] = first_symbol.upper()\n",
    "        symbols[\"second_symbol\"] = second_symbol.upper()\n",
    "    def check_win(inputs):\n",
    "        if ((Board_list[0] == inputs and Board_list[1] == inputs and Board_list[2] == inputs) or\n",
    "            (Board_list[3] == inputs and Board_list[4] == inputs and Board_list[5] == inputs) or\n",
    "            (Board_list[6] == inputs and Board_list[7] == inputs and Board_list[8] == inputs) or\n",
    "            (Board_list[0] == inputs and Board_list[3] == inputs and Board_list[6] == inputs) or\n",
    "            (Board_list[1] == inputs and Board_list[4] == inputs and Board_list[7] == inputs) or\n",
    "            (Board_list[2] == inputs and Board_list[5] == inputs and Board_list[8] == inputs) or\n",
    "            (Board_list[0] == inputs and Board_list[4] == inputs and Board_list[8] == inputs) or\n",
    "            (Board_list[2] == inputs and Board_list[4] == inputs and Board_list[6] == inputs)):\n",
    "            if set_val[inputs] == players[0]:\n",
    "                print(f\" Congrats {set_val[inputs]} you won the game\")\n",
    "                replay()\n",
    "            else:\n",
    "                print(f\" Congrats {set_val[inputs]} you won the game\")\n",
    "                replay()\n",
    "    def input_access():\n",
    "        i = 0\n",
    "        while i < 9 and win == False:\n",
    "            if i%2 == 0:\n",
    "                inputs = int(input(f\"{players[0]} enter a position for {symbols['first_symbol']} in 0-8: \"))\n",
    "                while(Board_list[inputs] == \"_\" or Board_list[inputs] == \" \"):\n",
    "                    Board_list.insert(inputs,symbols['first_symbol'])\n",
    "                    Board_list.pop(inputs+1)\n",
    "                    game_board()\n",
    "                check_win(symbols['first_symbol'])\n",
    "            else:\n",
    "                inputs = int(input(f\"{players[1]} enter a position for {symbols['second_symbol']} in 0-8: \"))\n",
    "                while(Board_list[inputs] == \"_\" or Board_list[inputs] == \" \"):\n",
    "                    Board_list.insert(inputs,symbols['second_symbol'])\n",
    "                    Board_list.pop(inputs+1)\n",
    "                    game_board()\n",
    "                check_win(symbols['second_symbol'])\n",
    "            i = i+1\n",
    "    def replay():\n",
    "            reply = input(\"Do you want to play again yes/no: \")\n",
    "            if reply.lower() == \"yes\":\n",
    "                Tic_Tac_Toe()\n",
    "            else:\n",
    "                sys.exit()\n",
    "    sg = input(\"ente yes to start:\")\n",
    "    if sg.lower() == \"yes\":\n",
    "        game_board()\n",
    "        users()\n",
    "        input_access()\n",
    "        check_win()\n",
    "    else:\n",
    "        print(\"You are always welcome to play\")\n",
    "        exit()\n",
    "    \n",
    "\n",
    "    "
   ]
  },
  {
   "cell_type": "code",
   "execution_count": 8,
   "metadata": {},
   "outputs": [
    {
     "name": "stdout",
     "output_type": "stream",
     "text": [
      "ente yes to start:yes\n",
      "_|_|_\n",
      "_|_|_\n",
      " | | \n",
      "Enter player 1's name: pavan\n",
      "Enter player 2's name: ptv\n",
      "pavan please choose one from ['X', 'O']: x\n",
      "ptv you will be playing with O for rest of game\n",
      "pavan enter a position for X in 0-8: 0\n",
      "X|_|_\n",
      "_|_|_\n",
      " | | \n",
      "ptv enter a position for O in 0-8: 1\n",
      "X|O|_\n",
      "_|_|_\n",
      " | | \n",
      "pavan enter a position for X in 0-8: 4\n",
      "X|O|_\n",
      "_|X|_\n",
      " | | \n",
      "ptv enter a position for O in 0-8: 2\n",
      "X|O|O\n",
      "_|X|_\n",
      " | | \n",
      "pavan enter a position for X in 0-8: 8\n",
      "X|O|O\n",
      "_|X|_\n",
      " | |X\n",
      " Congrats pavan you won the game\n",
      "Do you want to play again yes/no: no\n"
     ]
    },
    {
     "ename": "SystemExit",
     "evalue": "",
     "output_type": "error",
     "traceback": [
      "An exception has occurred, use %tb to see the full traceback.\n",
      "\u001b[1;31mSystemExit\u001b[0m\n"
     ]
    }
   ],
   "source": [
    "Tic_Tac_Toe()"
   ]
  },
  {
   "cell_type": "markdown",
   "metadata": {},
   "source": [
    " "
   ]
  },
  {
   "cell_type": "code",
   "execution_count": null,
   "metadata": {},
   "outputs": [],
   "source": []
  }
 ],
 "metadata": {
  "kernelspec": {
   "display_name": "Python 3",
   "language": "python",
   "name": "python3"
  },
  "language_info": {
   "codemirror_mode": {
    "name": "ipython",
    "version": 3
   },
   "file_extension": ".py",
   "mimetype": "text/x-python",
   "name": "python",
   "nbconvert_exporter": "python",
   "pygments_lexer": "ipython3",
   "version": "3.7.3"
  }
 },
 "nbformat": 4,
 "nbformat_minor": 2
}
